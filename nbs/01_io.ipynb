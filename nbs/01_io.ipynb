{
 "cells": [
  {
   "cell_type": "markdown",
   "metadata": {},
   "source": [
    "# Reading Video\n",
    "> Cinelytics uses OpenCV to read video. The main function is `read_video`, where you can flexibly grab either all or different sequences of the frames of any given video."
   ]
  },
  {
   "cell_type": "code",
   "execution_count": 1,
   "metadata": {
    "ExecuteTime": {
     "end_time": "2020-03-28T12:52:54.377307Z",
     "start_time": "2020-03-28T12:52:54.370595Z"
    }
   },
   "outputs": [],
   "source": [
    "#default_exp io"
   ]
  },
  {
   "cell_type": "code",
   "execution_count": 2,
   "metadata": {
    "ExecuteTime": {
     "end_time": "2020-03-28T12:52:55.380953Z",
     "start_time": "2020-03-28T12:52:54.457376Z"
    }
   },
   "outputs": [],
   "source": [
    "#hide\n",
    "%load_ext autoreload\n",
    "%autoreload 2\n",
    "%matplotlib notebook\n",
    "\n",
    "from IPython.core.interactiveshell import InteractiveShell\n",
    "InteractiveShell.ast_node_interactivity = \"all\""
   ]
  },
  {
   "cell_type": "code",
   "execution_count": 3,
   "metadata": {
    "ExecuteTime": {
     "end_time": "2020-03-28T12:52:56.040430Z",
     "start_time": "2020-03-28T12:52:55.383497Z"
    }
   },
   "outputs": [],
   "source": [
    "#export\n",
    "from videoutils.utils import *\n",
    "from functools import partial\n",
    "from pathlib import Path"
   ]
  },
  {
   "cell_type": "code",
   "execution_count": 5,
   "metadata": {
    "ExecuteTime": {
     "end_time": "2020-03-28T12:52:56.085463Z",
     "start_time": "2020-03-28T12:52:56.045079Z"
    }
   },
   "outputs": [],
   "source": [
    "#export\n",
    "__all__ = ['read_video', 'read_frames', 'get_target_frames', 'capture', 'as_tensor', 'resize', 'lapply', 'bgr2rgb', 'bgr2hsv']"
   ]
  },
  {
   "cell_type": "markdown",
   "metadata": {},
   "source": [
    "## Reading Video using OpenCV"
   ]
  },
  {
   "cell_type": "code",
   "execution_count": 8,
   "metadata": {
    "ExecuteTime": {
     "end_time": "2020-03-28T12:52:56.120137Z",
     "start_time": "2020-03-28T12:52:56.088835Z"
    }
   },
   "outputs": [],
   "source": [
    "#export\n",
    "from typing import Collection\n",
    "def read_video(fname          : Union[str, cv2.VideoCapture],\n",
    "               start_idx      : Optional[int]=None,\n",
    "               end_idx        : Optional[int]=None,\n",
    "               frame_stride   : Optional[int]=None,\n",
    "               target_frames  : Union[tuple, list, int, np.array]=None,\n",
    "               resize_func    : Optional[Callable]=resize,\n",
    "               cvt_color_func : Optional[Callable]=bgr2rgb,\n",
    "               apply          : Optional[Callable]=None) -> Collection:\n",
    "    \"\"\"\n",
    "    Flexible video reader where you can grab frames in different ways\n",
    "    and return as different dtypes.\n",
    "    \n",
    "    **Args**\n",
    "    \n",
    "    * `fname`        : a `cv2.VideoCapture` object, or path to the video file\n",
    "    * `start_idx`    : index of the frame where you'd like to start reading the file\n",
    "    * `end_idx`      : index of the frame where you'd like to end reading the file\n",
    "    * `frame_stride` : after reading the frame, every `frame_stride`th index will be read\n",
    "    * `target_frames`: if this arg is used, `start_idx`, `end_idx`, and `frame_stride` are ignored. Can be an \n",
    " \n",
    "            - `int`            : returns frame at this index\n",
    "            - `list`/`np.array`: returns frame at index of each element\n",
    "            - `tuple`          : a tuple like `(start_idx, end_idx, frame_stride)` where \n",
    "                                 `frame_stride`is optional. If this is what you want, using the \n",
    "                                 other args instead of `target_frames` is more flexible.\n",
    "    * `resize_func`    : a function that resizes a single `np.array` of shape `(height, width, channels)`\n",
    "    * `cvt_color_func` : a function that applies a `cv2.cvtColor` transformation\n",
    "    * `apply`          : a function that transforms a single `np.array` of shape `(height, width, channels)`\n",
    "                         and is called **after** individual frames of the video have been read i.e. just\n",
    "                         before returning the collection (list/tensor) of frames\n",
    "    \"\"\"\n",
    "    cap    = capture(fname)\n",
    "    if target_frames is None: target_frames = get_target_frames(fname, start_idx, end_idx, frame_stride)\n",
    "    frames = read_frames(cap, target_frames, resize_func, cvt_color_func)\n",
    "    cap.release()\n",
    "\n",
    "    if apply is not None:\n",
    "        if apply == as_tensor: frames = torch.stack(lapply(frames, apply))\n",
    "        else: frames = lapply(frames, apply)\n",
    "    \n",
    "    return frames"
   ]
  },
  {
   "cell_type": "markdown",
   "metadata": {},
   "source": [
    "---"
   ]
  },
  {
   "cell_type": "markdown",
   "metadata": {},
   "source": [
    "## Helper Functions"
   ]
  },
  {
   "cell_type": "code",
   "execution_count": 9,
   "metadata": {
    "ExecuteTime": {
     "end_time": "2020-03-28T12:52:56.154439Z",
     "start_time": "2020-03-28T12:52:56.122320Z"
    }
   },
   "outputs": [],
   "source": [
    "#export\n",
    "def read_frames(cap: cv2.VideoCapture, \n",
    "                target_frames: Union[tuple, list, int, np.array],\n",
    "                resize_func: Optional[Callable]=None,\n",
    "                cvt_color_func: Optional[Callable]=None) -> list:\n",
    "    \"Read specific frames from a `cv2.VideoCapture` object\"\n",
    "    if   isinstance(target_frames, tuple) : frame_idxs = np.arange(*target_frames)\n",
    "    elif isinstance(target_frames, list)  : frame_idxs = target_frames\n",
    "    elif isinstance(target_frames, int)   : frame_idxs = [target_frames]\n",
    "    elif isinstance(target_frames, np.ndarray)   : frame_idxs = target_frames \n",
    "\n",
    "    frames=[]\n",
    "    for i in frame_idxs:\n",
    "        cap.set(cv2.CAP_PROP_POS_FRAMES, i)\n",
    "        ret, frame = cap.read()\n",
    "        if ret==True:\n",
    "            if cvt_color_func is not None: frame = cvt_color_func(frame)\n",
    "            if resize_func    is not None: frame = resize_func(frame)\n",
    "            frames.append(frame) # return np.array\n",
    "        else: break\n",
    "    return frames"
   ]
  },
  {
   "cell_type": "markdown",
   "metadata": {},
   "source": [
    "Helper function for `read_video`\n",
    "\n",
    "---"
   ]
  },
  {
   "cell_type": "code",
   "execution_count": 10,
   "metadata": {
    "ExecuteTime": {
     "end_time": "2020-03-28T12:52:56.187143Z",
     "start_time": "2020-03-28T12:52:56.157171Z"
    }
   },
   "outputs": [],
   "source": [
    "#export\n",
    "def capture(x: Union[str, Path, cv2.VideoCapture]) -> cv2.VideoCapture:\n",
    "    \"Ensure `cv2.VideoCapture` works properly\"\n",
    "    assert isinstance(x, (str, Path, cv2.VideoCapture)), \\\n",
    "    f\"Expected `str`, `Path` or `cv2.VideoCapture` but received {type(x)} \"\n",
    "    cap = cv2.VideoCapture(str(x)) if isinstance(x, (str, Path)) else x\n",
    "    assert(cap.isOpened()), f'Failed to open video \"{x}\"'\n",
    "    return cap"
   ]
  },
  {
   "cell_type": "markdown",
   "metadata": {},
   "source": [
    "Helper function for `read_video`\n",
    "\n",
    "---"
   ]
  },
  {
   "cell_type": "code",
   "execution_count": 11,
   "metadata": {
    "ExecuteTime": {
     "end_time": "2020-03-28T12:56:45.419338Z",
     "start_time": "2020-03-28T12:56:45.317707Z"
    }
   },
   "outputs": [],
   "source": [
    "#export\n",
    "def get_target_frames(x      : Union[str, Path, cv2.VideoCapture],\n",
    "                      start  : Optional[int]=None,\n",
    "                      end    : Optional[int]=None,\n",
    "                      stride : Optional[int]=None) -> np.array:\n",
    "    \"flexibly get the indices of the frames you want to grab\"\n",
    "    num_frames = capture(x).get(cv2.CAP_PROP_FRAME_COUNT)\n",
    "    num_frames = int(num_frames) # will this lead to bugs?\n",
    "    if start is not None:\n",
    "        if end is None: return np.arange(0, num_frames, stride)\n",
    "        else:           return np.arange(start, end, stride)\n",
    "    if start is None:\n",
    "        if end is None: return np.arange(0, num_frames, stride)\n",
    "        else:           return np.arange(0, end, stride)"
   ]
  },
  {
   "cell_type": "markdown",
   "metadata": {},
   "source": [
    "Helper function for `read_video`\n",
    "\n",
    "---"
   ]
  },
  {
   "cell_type": "markdown",
   "metadata": {},
   "source": [
    "## Examples"
   ]
  },
  {
   "cell_type": "code",
   "execution_count": 12,
   "metadata": {
    "ExecuteTime": {
     "end_time": "2020-03-28T12:52:57.729589Z",
     "start_time": "2020-03-28T12:52:57.612093Z"
    }
   },
   "outputs": [
    {
     "data": {
      "text/plain": [
       "6"
      ]
     },
     "execution_count": 12,
     "metadata": {},
     "output_type": "execute_result"
    },
    {
     "data": {
      "text/plain": [
       "(480, 720, 3)"
      ]
     },
     "execution_count": 12,
     "metadata": {},
     "output_type": "execute_result"
    }
   ],
   "source": [
    "vid = read_video('files/interstellar-waves-edit.mp4', target_frames=[0,1,2,3,4,5])\n",
    "\n",
    "len(vid); vid[0].shape"
   ]
  },
  {
   "cell_type": "markdown",
   "metadata": {},
   "source": [
    "---"
   ]
  },
  {
   "cell_type": "code",
   "execution_count": 13,
   "metadata": {
    "ExecuteTime": {
     "end_time": "2020-03-28T12:52:58.965439Z",
     "start_time": "2020-03-28T12:52:58.828546Z"
    }
   },
   "outputs": [
    {
     "data": {
      "text/plain": [
       "(960, 1440, 3)"
      ]
     },
     "execution_count": 13,
     "metadata": {},
     "output_type": "execute_result"
    }
   ],
   "source": [
    "resizer = partial(resize, keep_aspect_ratio=True, scale_factor=2)\n",
    "vid = read_video('files/interstellar-waves-edit.mp4', target_frames=[0,1,2,3,4,5], \n",
    "                 resize_func=resizer)\n",
    "\n",
    "vid[0].shape"
   ]
  },
  {
   "cell_type": "markdown",
   "metadata": {},
   "source": [
    "---"
   ]
  },
  {
   "cell_type": "code",
   "execution_count": 14,
   "metadata": {},
   "outputs": [
    {
     "data": {
      "text/plain": [
       "100"
      ]
     },
     "execution_count": 14,
     "metadata": {},
     "output_type": "execute_result"
    },
    {
     "data": {
      "text/plain": [
       "True"
      ]
     },
     "execution_count": 14,
     "metadata": {},
     "output_type": "execute_result"
    }
   ],
   "source": [
    "vid  = read_video('files/interstellar-waves-edit.mp4', target_frames=np.arange(100))\n",
    "vid2 = read_video('files/interstellar-waves-edit.mp4', start_idx=0, end_idx=100, frame_stride=1)\n",
    "vid3 = read_video('files/interstellar-waves-edit.mp4', target_frames=(0, 100, 1))\n",
    "vid4 = read_video('files/interstellar-waves-edit.mp4', end_idx=100)\n",
    "\n",
    "len(vid)\n",
    "len(vid) == len(vid2) == len(vid3) == len(vid4)"
   ]
  },
  {
   "cell_type": "markdown",
   "metadata": {},
   "source": [
    "---"
   ]
  },
  {
   "cell_type": "markdown",
   "metadata": {},
   "source": [
    "### Export -"
   ]
  },
  {
   "cell_type": "code",
   "execution_count": 19,
   "metadata": {
    "ExecuteTime": {
     "end_time": "2020-03-28T12:53:03.410834Z",
     "start_time": "2020-03-28T12:53:03.166676Z"
    }
   },
   "outputs": [
    {
     "name": "stdout",
     "output_type": "stream",
     "text": [
      "Converted 00_utils.ipynb.\n",
      "Converted 01_io.ipynb.\n",
      "Converted index.ipynb.\n"
     ]
    }
   ],
   "source": [
    "#hide\n",
    "from nbdev.export import *\n",
    "notebook2script()"
   ]
  }
 ],
 "metadata": {
  "kernelspec": {
   "display_name": "Python 3",
   "language": "python",
   "name": "python3"
  },
  "language_info": {
   "codemirror_mode": {
    "name": "ipython",
    "version": 3
   },
   "file_extension": ".py",
   "mimetype": "text/x-python",
   "name": "python",
   "nbconvert_exporter": "python",
   "pygments_lexer": "ipython3",
   "version": "3.7.7"
  },
  "toc": {
   "base_numbering": 1,
   "nav_menu": {},
   "number_sections": true,
   "sideBar": true,
   "skip_h1_title": false,
   "title_cell": "Table of Contents",
   "title_sidebar": "Contents",
   "toc_cell": false,
   "toc_position": {},
   "toc_section_display": true,
   "toc_window_display": false
  }
 },
 "nbformat": 4,
 "nbformat_minor": 2
}
